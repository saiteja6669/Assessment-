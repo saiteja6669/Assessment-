{
 "cells": [
  {
   "cell_type": "code",
   "execution_count": 1,
   "id": "d82c14fd-d9d2-442a-8f64-f439b56ec3c9",
   "metadata": {},
   "outputs": [
    {
     "name": "stdout",
     "output_type": "stream",
     "text": [
      "Hello Python\n"
     ]
    }
   ],
   "source": [
    "print(\"Hello Python\")"
   ]
  },
  {
   "cell_type": "code",
   "execution_count": 3,
   "id": "bf2a2bc7-8acb-4985-8af9-14d654c806d7",
   "metadata": {},
   "outputs": [
    {
     "name": "stdout",
     "output_type": "stream",
     "text": [
      "5\n",
      "1.5\n"
     ]
    }
   ],
   "source": [
    "val1 = 3\n",
    "val2 = 2\n",
    "Addition = val1 + val2\n",
    "Division = val1/val2\n",
    "print(Addition)\n",
    "print(Division)"
   ]
  },
  {
   "cell_type": "code",
   "execution_count": 7,
   "id": "a47f0ebd-bba9-45e2-982d-24166f9817dc",
   "metadata": {},
   "outputs": [
    {
     "name": "stdin",
     "output_type": "stream",
     "text": [
      "Enter side 1:  2\n",
      "Enter side 2:  3\n",
      "Enter side 3:  4\n"
     ]
    },
    {
     "name": "stdout",
     "output_type": "stream",
     "text": [
      "Area of triangle is: 2.9047375096555625\n"
     ]
    }
   ],
   "source": [
    "a=float(input('Enter side 1: '))\n",
    "b=float(input('Enter side 2: '))\n",
    "c=float(input('Enter side 3: '))\n",
    "s=(a+b+c)/2\n",
    "area=((s)*(s-a)*(s-b)*(s-c))**(1/2)\n",
    "print(f'Area of triangle is: {area}')"
   ]
  },
  {
   "cell_type": "code",
   "execution_count": 8,
   "id": "ccc53f5a-8112-4a4d-a27c-651ed4d84b25",
   "metadata": {},
   "outputs": [
    {
     "name": "stdout",
     "output_type": "stream",
     "text": [
      "The value of x after swapping: 10\n",
      "The value of y after swapping: 5\n"
     ]
    }
   ],
   "source": [
    "x = 5\n",
    "y = 10\n",
    "temp = x\n",
    "x = y\n",
    "y = temp\n",
    "print(f'The value of x after swapping: {x}')\n",
    "print(f'The value of y after swapping: {y}')"
   ]
  },
  {
   "cell_type": "code",
   "execution_count": 11,
   "id": "99ba6325-76a2-467f-befd-b1ffd7d3e798",
   "metadata": {},
   "outputs": [
    {
     "name": "stdout",
     "output_type": "stream",
     "text": [
      "0.4132324240174977\n"
     ]
    }
   ],
   "source": [
    "import random\n",
    "\n",
    "print(random.random())"
   ]
  },
  {
   "cell_type": "code",
   "execution_count": null,
   "id": "b0b4b128-511a-4203-83e6-7daf5f5d9333",
   "metadata": {},
   "outputs": [],
   "source": []
  }
 ],
 "metadata": {
  "kernelspec": {
   "display_name": "Python 3 (ipykernel)",
   "language": "python",
   "name": "python3"
  },
  "language_info": {
   "codemirror_mode": {
    "name": "ipython",
    "version": 3
   },
   "file_extension": ".py",
   "mimetype": "text/x-python",
   "name": "python",
   "nbconvert_exporter": "python",
   "pygments_lexer": "ipython3",
   "version": "3.10.6"
  }
 },
 "nbformat": 4,
 "nbformat_minor": 5
}
