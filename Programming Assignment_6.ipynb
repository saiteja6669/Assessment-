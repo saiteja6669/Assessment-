{
 "cells": [
  {
   "cell_type": "code",
   "execution_count": 4,
   "id": "f7fc29e6-a819-4f25-8b7d-60198a10c1eb",
   "metadata": {},
   "outputs": [
    {
     "name": "stdin",
     "output_type": "stream",
     "text": [
      "Enter a number, N, N>=2 :  10\n"
     ]
    },
    {
     "name": "stdout",
     "output_type": "stream",
     "text": [
      "[0, 1, 1, 2, 3, 5, 8, 13, 21, 34]\n"
     ]
    }
   ],
   "source": [
    "def fibonacci(n):\n",
    "\tif n<=1:\n",
    "\t\treturn n\n",
    "\telse:\n",
    "\t\treturn(fibonacci(n-1) + fibonacci(n-2))\n",
    "n = int(input('Enter a number, N, N>=2 : '))\n",
    "fibo_series = []\n",
    "for i in range(0,n):\n",
    "\tfibo_series.append(fibonacci(i))\n",
    "print(fibo_series)"
   ]
  },
  {
   "cell_type": "code",
   "execution_count": 3,
   "id": "1410c07d-3a62-48bd-b1af-6660f8377265",
   "metadata": {},
   "outputs": [
    {
     "name": "stdin",
     "output_type": "stream",
     "text": [
      "User Input :  10\n"
     ]
    },
    {
     "name": "stdout",
     "output_type": "stream",
     "text": [
      "The factorial of 10 is 3628800\n"
     ]
    }
   ],
   "source": [
    "def recursive_factorial(n):\n",
    "  if n == 1:\n",
    "     return n\n",
    "  else:\n",
    "     return n*recursive_factorial(n-1) \n",
    "number = int(input(\"User Input : \"))\n",
    "print(f\"The factorial of {number} is\", recursive_factorial(number))"
   ]
  },
  {
   "cell_type": "code",
   "execution_count": 6,
   "id": "0d38c242-c8c3-4ffc-ae67-3ec6f520a4ee",
   "metadata": {},
   "outputs": [
    {
     "name": "stdin",
     "output_type": "stream",
     "text": [
      "Input your height in Feet:  5.6\n",
      "Input your weight in Kilogram:  65\n"
     ]
    },
    {
     "name": "stdout",
     "output_type": "stream",
     "text": [
      "Your body mass index is:  2.07\n"
     ]
    }
   ],
   "source": [
    "h = float(input(\"Input your height in Feet: \"))\n",
    "w = float(input(\"Input your weight in Kilogram: \"))\n",
    "print(\"Your body mass index is: \", round(w / (h * h), 2))"
   ]
  },
  {
   "cell_type": "code",
   "execution_count": 7,
   "id": "46cb18ce-054d-4db8-9fff-23d13267068f",
   "metadata": {},
   "outputs": [
    {
     "name": "stdin",
     "output_type": "stream",
     "text": [
      "Enter the number:  5\n"
     ]
    },
    {
     "name": "stdout",
     "output_type": "stream",
     "text": [
      "The value is : 1.6094379124341003\n"
     ]
    }
   ],
   "source": [
    "import math\n",
    "number = int(input(\"Enter the number: \"))\n",
    "ans = math.log(number)\n",
    "print(f\"The value is : {ans}\")"
   ]
  },
  {
   "cell_type": "code",
   "execution_count": 13,
   "id": "136b01ec-91c6-4d9e-8859-6a97e9541b3b",
   "metadata": {},
   "outputs": [
    {
     "name": "stdin",
     "output_type": "stream",
     "text": [
      "Enter your number:  20\n"
     ]
    },
    {
     "name": "stdout",
     "output_type": "stream",
     "text": [
      "44100\n"
     ]
    }
   ],
   "source": [
    "def sumOfSeries(n):\n",
    "   sum = 0\n",
    "   for i in range(1, n+1):\n",
    "      sum +=i**3\n",
    "   return sum\n",
    "n = int(input('Enter your number: '))\n",
    "print(sumOfSeries(n))"
   ]
  },
  {
   "cell_type": "code",
   "execution_count": null,
   "id": "cbccbad6-bb1b-404b-b12d-8c8f93459975",
   "metadata": {},
   "outputs": [],
   "source": []
  }
 ],
 "metadata": {
  "kernelspec": {
   "display_name": "Python 3 (ipykernel)",
   "language": "python",
   "name": "python3"
  },
  "language_info": {
   "codemirror_mode": {
    "name": "ipython",
    "version": 3
   },
   "file_extension": ".py",
   "mimetype": "text/x-python",
   "name": "python",
   "nbconvert_exporter": "python",
   "pygments_lexer": "ipython3",
   "version": "3.10.6"
  }
 },
 "nbformat": 4,
 "nbformat_minor": 5
}
