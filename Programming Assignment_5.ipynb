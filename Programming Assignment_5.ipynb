{
 "cells": [
  {
   "cell_type": "code",
   "execution_count": 1,
   "id": "02243807-1c5b-41d1-aa94-9c2a00f313a8",
   "metadata": {},
   "outputs": [
    {
     "name": "stdin",
     "output_type": "stream",
     "text": [
      " 5\n",
      " 10\n"
     ]
    },
    {
     "name": "stdout",
     "output_type": "stream",
     "text": [
      "10\n"
     ]
    }
   ],
   "source": [
    "num1 = int(input())\n",
    "num2 = int(input())\n",
    "if(num1 > num2 ):   \n",
    "    max= num1\n",
    "else:\n",
    "    max= num2\n",
    "while(True):\n",
    "    if(max % num1 == 0 and max % num2 == 0):   \n",
    "        print(max)\n",
    "        break;\n",
    "    max= max+ 1"
   ]
  },
  {
   "cell_type": "code",
   "execution_count": 6,
   "id": "b7e4b40c-1b58-4997-b84a-8095271da8b5",
   "metadata": {},
   "outputs": [
    {
     "name": "stdin",
     "output_type": "stream",
     "text": [
      "Enter first number:  12\n",
      "Enter second number:  6\n"
     ]
    },
    {
     "name": "stdout",
     "output_type": "stream",
     "text": [
      "hcf of 12 and 6 = 6\n"
     ]
    }
   ],
   "source": [
    "num1 = int(input(\"Enter first number: \"))  \n",
    "num2 = int(input(\"Enter second number: \"))  \n",
    "if num1 > num2:\n",
    "    minimum = num2\n",
    "else:\n",
    "    minimum = num1\n",
    "for i in range(1, minimum+1):\n",
    "    if((num1 % i == 0) and (num2 % i == 0)):\n",
    "        hcf = i \n",
    "print(f\"hcf of {num1} and {num2} = {hcf}\")"
   ]
  },
  {
   "cell_type": "code",
   "execution_count": 9,
   "id": "434ae9bf-c34f-4f88-b259-b5a67a851e39",
   "metadata": {},
   "outputs": [
    {
     "name": "stdin",
     "output_type": "stream",
     "text": [
      "Enter decimal:  66\n"
     ]
    },
    {
     "name": "stdout",
     "output_type": "stream",
     "text": [
      "The decimal value of: 66\n",
      "0b1000010 after binary conversion\n",
      "0o102 after octal conversion\n",
      "0x42 after hexadecimal conversion\n"
     ]
    }
   ],
   "source": [
    "decimal = int(input(\"Enter decimal: \")) \n",
    "\n",
    "print(f\"The decimal value of: {decimal}\")\n",
    "print(bin(decimal), \"after binary conversion\")\n",
    "print(oct(decimal), \"after octal conversion\")\n",
    "print(hex(decimal), \"after hexadecimal conversion\")"
   ]
  },
  {
   "cell_type": "code",
   "execution_count": 12,
   "id": "2985803f-b16d-4be1-8618-6936e2f0e184",
   "metadata": {},
   "outputs": [
    {
     "name": "stdin",
     "output_type": "stream",
     "text": [
      "Please enter a character:  r\n"
     ]
    },
    {
     "name": "stdout",
     "output_type": "stream",
     "text": [
      "The ASCII value of r is  114\n"
     ]
    }
   ],
   "source": [
    "I = input(\"Please enter a character: \")    \n",
    "    \n",
    "print (f\"The ASCII value of {I} is \", ord(I))  "
   ]
  },
  {
   "cell_type": "code",
   "execution_count": 16,
   "id": "6176b2ce-7c2e-4e66-b972-2f512c0bc983",
   "metadata": {},
   "outputs": [
    {
     "name": "stdin",
     "output_type": "stream",
     "text": [
      "Enter your first number:  12\n",
      "Enter your second number:  3\n"
     ]
    },
    {
     "name": "stdout",
     "output_type": "stream",
     "text": [
      "12.0 + 3.0 = \n",
      "15.0\n",
      "12.0 - 3.0 = \n",
      "9.0\n",
      "12.0 * 3.0 = \n",
      "36.0\n",
      "12.0 / 3.0 = \n",
      "4.0\n"
     ]
    }
   ],
   "source": [
    "num_1 = float(input('Enter your first number: '))\n",
    "num_2 = float(input('Enter your second number: '))\n",
    "print('{} + {} = '.format(num_1, num_2))\n",
    "print(num_1 + num_2)\n",
    "print('{} - {} = '.format(num_1, num_2))\n",
    "print(num_1 - num_2)\n",
    "print('{} * {} = '.format(num_1, num_2))\n",
    "print(num_1 * num_2)\n",
    "print('{} / {} = '.format(num_1, num_2))\n",
    "print(num_1 / num_2)"
   ]
  },
  {
   "cell_type": "code",
   "execution_count": null,
   "id": "659f136d-62bf-4abd-9096-de866825998b",
   "metadata": {},
   "outputs": [],
   "source": []
  }
 ],
 "metadata": {
  "kernelspec": {
   "display_name": "Python 3 (ipykernel)",
   "language": "python",
   "name": "python3"
  },
  "language_info": {
   "codemirror_mode": {
    "name": "ipython",
    "version": 3
   },
   "file_extension": ".py",
   "mimetype": "text/x-python",
   "name": "python",
   "nbconvert_exporter": "python",
   "pygments_lexer": "ipython3",
   "version": "3.10.6"
  }
 },
 "nbformat": 4,
 "nbformat_minor": 5
}
